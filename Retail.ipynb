{
 "cells": [
  {
   "cell_type": "raw",
   "metadata": {},
   "source": [
    "## Retail"
   ]
  },
  {
   "cell_type": "code",
   "execution_count": 2,
   "metadata": {},
   "outputs": [],
   "source": [
    "import seaborn as sns\n",
    "import numpy as np\n",
    "import pandas as pd\n",
    "import matplotlib.pyplot as plt\n",
    "%matplotlib inline"
   ]
  },
  {
   "cell_type": "code",
   "execution_count": 3,
   "metadata": {},
   "outputs": [
    {
     "data": {
      "text/html": [
       "<div>\n",
       "<style scoped>\n",
       "    .dataframe tbody tr th:only-of-type {\n",
       "        vertical-align: middle;\n",
       "    }\n",
       "\n",
       "    .dataframe tbody tr th {\n",
       "        vertical-align: top;\n",
       "    }\n",
       "\n",
       "    .dataframe thead th {\n",
       "        text-align: right;\n",
       "    }\n",
       "</style>\n",
       "<table border=\"1\" class=\"dataframe\">\n",
       "  <thead>\n",
       "    <tr style=\"text-align: right;\">\n",
       "      <th></th>\n",
       "      <th>transaction_id</th>\n",
       "      <th>cust_id</th>\n",
       "      <th>tran_date</th>\n",
       "      <th>prod_subcat_code</th>\n",
       "      <th>prod_cat_code</th>\n",
       "      <th>Qty</th>\n",
       "      <th>Rate</th>\n",
       "      <th>Tax</th>\n",
       "      <th>total_amt</th>\n",
       "      <th>Store_type</th>\n",
       "      <th>prod_cat</th>\n",
       "      <th>prod_subcat</th>\n",
       "      <th>DOB</th>\n",
       "      <th>Gender</th>\n",
       "      <th>city_code</th>\n",
       "    </tr>\n",
       "  </thead>\n",
       "  <tbody>\n",
       "    <tr>\n",
       "      <th>0</th>\n",
       "      <td>80712190438</td>\n",
       "      <td>270351</td>\n",
       "      <td>28-02-2014</td>\n",
       "      <td>1</td>\n",
       "      <td>1</td>\n",
       "      <td>-5</td>\n",
       "      <td>-772</td>\n",
       "      <td>405.300</td>\n",
       "      <td>-4265.300</td>\n",
       "      <td>e-Shop</td>\n",
       "      <td>Clothing</td>\n",
       "      <td>Women</td>\n",
       "      <td>26-09-1981</td>\n",
       "      <td>M</td>\n",
       "      <td>5.0</td>\n",
       "    </tr>\n",
       "    <tr>\n",
       "      <th>1</th>\n",
       "      <td>80712190438</td>\n",
       "      <td>270351</td>\n",
       "      <td>20-02-2014</td>\n",
       "      <td>1</td>\n",
       "      <td>1</td>\n",
       "      <td>5</td>\n",
       "      <td>772</td>\n",
       "      <td>405.300</td>\n",
       "      <td>4265.300</td>\n",
       "      <td>e-Shop</td>\n",
       "      <td>Clothing</td>\n",
       "      <td>Women</td>\n",
       "      <td>26-09-1981</td>\n",
       "      <td>M</td>\n",
       "      <td>5.0</td>\n",
       "    </tr>\n",
       "    <tr>\n",
       "      <th>2</th>\n",
       "      <td>13181563739</td>\n",
       "      <td>270351</td>\n",
       "      <td>13-12-2011</td>\n",
       "      <td>6</td>\n",
       "      <td>5</td>\n",
       "      <td>1</td>\n",
       "      <td>1048</td>\n",
       "      <td>110.040</td>\n",
       "      <td>1158.040</td>\n",
       "      <td>e-Shop</td>\n",
       "      <td>Books</td>\n",
       "      <td>DIY</td>\n",
       "      <td>26-09-1981</td>\n",
       "      <td>M</td>\n",
       "      <td>5.0</td>\n",
       "    </tr>\n",
       "    <tr>\n",
       "      <th>3</th>\n",
       "      <td>12236277258</td>\n",
       "      <td>270351</td>\n",
       "      <td>18-03-2013</td>\n",
       "      <td>8</td>\n",
       "      <td>3</td>\n",
       "      <td>3</td>\n",
       "      <td>1030</td>\n",
       "      <td>324.450</td>\n",
       "      <td>3414.450</td>\n",
       "      <td>e-Shop</td>\n",
       "      <td>Electronics</td>\n",
       "      <td>Personal Appliances</td>\n",
       "      <td>26-09-1981</td>\n",
       "      <td>M</td>\n",
       "      <td>5.0</td>\n",
       "    </tr>\n",
       "    <tr>\n",
       "      <th>4</th>\n",
       "      <td>36957441426</td>\n",
       "      <td>270351</td>\n",
       "      <td>16-09-2013</td>\n",
       "      <td>3</td>\n",
       "      <td>2</td>\n",
       "      <td>3</td>\n",
       "      <td>361</td>\n",
       "      <td>113.715</td>\n",
       "      <td>1196.715</td>\n",
       "      <td>Flagship store</td>\n",
       "      <td>Footwear</td>\n",
       "      <td>Women</td>\n",
       "      <td>26-09-1981</td>\n",
       "      <td>M</td>\n",
       "      <td>5.0</td>\n",
       "    </tr>\n",
       "    <tr>\n",
       "      <th>...</th>\n",
       "      <td>...</td>\n",
       "      <td>...</td>\n",
       "      <td>...</td>\n",
       "      <td>...</td>\n",
       "      <td>...</td>\n",
       "      <td>...</td>\n",
       "      <td>...</td>\n",
       "      <td>...</td>\n",
       "      <td>...</td>\n",
       "      <td>...</td>\n",
       "      <td>...</td>\n",
       "      <td>...</td>\n",
       "      <td>...</td>\n",
       "      <td>...</td>\n",
       "      <td>...</td>\n",
       "    </tr>\n",
       "    <tr>\n",
       "      <th>23048</th>\n",
       "      <td>87125650</td>\n",
       "      <td>268666</td>\n",
       "      <td>9/8/2011</td>\n",
       "      <td>1</td>\n",
       "      <td>4</td>\n",
       "      <td>-5</td>\n",
       "      <td>-359</td>\n",
       "      <td>188.475</td>\n",
       "      <td>-1983.475</td>\n",
       "      <td>e-Shop</td>\n",
       "      <td>Bags</td>\n",
       "      <td>Mens</td>\n",
       "      <td>11/12/1978</td>\n",
       "      <td>M</td>\n",
       "      <td>3.0</td>\n",
       "    </tr>\n",
       "    <tr>\n",
       "      <th>23049</th>\n",
       "      <td>87125650</td>\n",
       "      <td>268666</td>\n",
       "      <td>5/8/2011</td>\n",
       "      <td>1</td>\n",
       "      <td>4</td>\n",
       "      <td>5</td>\n",
       "      <td>359</td>\n",
       "      <td>188.475</td>\n",
       "      <td>1983.475</td>\n",
       "      <td>e-Shop</td>\n",
       "      <td>Bags</td>\n",
       "      <td>Mens</td>\n",
       "      <td>11/12/1978</td>\n",
       "      <td>M</td>\n",
       "      <td>3.0</td>\n",
       "    </tr>\n",
       "    <tr>\n",
       "      <th>23050</th>\n",
       "      <td>34764580226</td>\n",
       "      <td>269784</td>\n",
       "      <td>20-07-2011</td>\n",
       "      <td>1</td>\n",
       "      <td>4</td>\n",
       "      <td>1</td>\n",
       "      <td>1057</td>\n",
       "      <td>110.985</td>\n",
       "      <td>1167.985</td>\n",
       "      <td>Flagship store</td>\n",
       "      <td>Bags</td>\n",
       "      <td>Mens</td>\n",
       "      <td>26-04-1986</td>\n",
       "      <td>F</td>\n",
       "      <td>7.0</td>\n",
       "    </tr>\n",
       "    <tr>\n",
       "      <th>23051</th>\n",
       "      <td>80809115393</td>\n",
       "      <td>268084</td>\n",
       "      <td>1/4/2011</td>\n",
       "      <td>1</td>\n",
       "      <td>4</td>\n",
       "      <td>4</td>\n",
       "      <td>873</td>\n",
       "      <td>366.660</td>\n",
       "      <td>3858.660</td>\n",
       "      <td>TeleShop</td>\n",
       "      <td>Bags</td>\n",
       "      <td>Mens</td>\n",
       "      <td>18-11-1970</td>\n",
       "      <td>M</td>\n",
       "      <td>1.0</td>\n",
       "    </tr>\n",
       "    <tr>\n",
       "      <th>23052</th>\n",
       "      <td>12933894691</td>\n",
       "      <td>272706</td>\n",
       "      <td>31-01-2011</td>\n",
       "      <td>1</td>\n",
       "      <td>4</td>\n",
       "      <td>5</td>\n",
       "      <td>361</td>\n",
       "      <td>189.525</td>\n",
       "      <td>1994.525</td>\n",
       "      <td>MBR</td>\n",
       "      <td>Bags</td>\n",
       "      <td>Mens</td>\n",
       "      <td>9/3/1974</td>\n",
       "      <td>M</td>\n",
       "      <td>8.0</td>\n",
       "    </tr>\n",
       "  </tbody>\n",
       "</table>\n",
       "<p>23053 rows × 15 columns</p>\n",
       "</div>"
      ],
      "text/plain": [
       "       transaction_id  cust_id   tran_date  prod_subcat_code  prod_cat_code  \\\n",
       "0         80712190438   270351  28-02-2014                 1              1   \n",
       "1         80712190438   270351  20-02-2014                 1              1   \n",
       "2         13181563739   270351  13-12-2011                 6              5   \n",
       "3         12236277258   270351  18-03-2013                 8              3   \n",
       "4         36957441426   270351  16-09-2013                 3              2   \n",
       "...               ...      ...         ...               ...            ...   \n",
       "23048        87125650   268666    9/8/2011                 1              4   \n",
       "23049        87125650   268666    5/8/2011                 1              4   \n",
       "23050     34764580226   269784  20-07-2011                 1              4   \n",
       "23051     80809115393   268084    1/4/2011                 1              4   \n",
       "23052     12933894691   272706  31-01-2011                 1              4   \n",
       "\n",
       "       Qty  Rate      Tax  total_amt      Store_type     prod_cat  \\\n",
       "0       -5  -772  405.300  -4265.300          e-Shop     Clothing   \n",
       "1        5   772  405.300   4265.300          e-Shop     Clothing   \n",
       "2        1  1048  110.040   1158.040          e-Shop        Books   \n",
       "3        3  1030  324.450   3414.450          e-Shop  Electronics   \n",
       "4        3   361  113.715   1196.715  Flagship store     Footwear   \n",
       "...    ...   ...      ...        ...             ...          ...   \n",
       "23048   -5  -359  188.475  -1983.475          e-Shop         Bags   \n",
       "23049    5   359  188.475   1983.475          e-Shop         Bags   \n",
       "23050    1  1057  110.985   1167.985  Flagship store         Bags   \n",
       "23051    4   873  366.660   3858.660        TeleShop         Bags   \n",
       "23052    5   361  189.525   1994.525             MBR         Bags   \n",
       "\n",
       "               prod_subcat         DOB Gender  city_code  \n",
       "0                    Women  26-09-1981      M        5.0  \n",
       "1                    Women  26-09-1981      M        5.0  \n",
       "2                      DIY  26-09-1981      M        5.0  \n",
       "3      Personal Appliances  26-09-1981      M        5.0  \n",
       "4                    Women  26-09-1981      M        5.0  \n",
       "...                    ...         ...    ...        ...  \n",
       "23048                 Mens  11/12/1978      M        3.0  \n",
       "23049                 Mens  11/12/1978      M        3.0  \n",
       "23050                 Mens  26-04-1986      F        7.0  \n",
       "23051                 Mens  18-11-1970      M        1.0  \n",
       "23052                 Mens    9/3/1974      M        8.0  \n",
       "\n",
       "[23053 rows x 15 columns]"
      ]
     },
     "execution_count": 3,
     "metadata": {},
     "output_type": "execute_result"
    }
   ],
   "source": [
    "tran_df=pd.read_csv(r'C:\\Users\\180121\\Downloads\\Transactions.csv')\n",
    "cat_df=pd.read_csv(r'C:\\Users\\180121\\Downloads\\prod_cat_info.csv')\n",
    "cust_df=pd.read_csv(r'C:\\Users\\180121\\Downloads\\Customer.csv')\n",
    "comb_df = pd.merge(left=tran_df,right=cat_df,how=\"inner\",on=['prod_subcat_code','prod_cat_code'])\n",
    "combi_df = pd.merge(left=comb_df,right=cust_df,how=\"inner\",on=['cust_id'])\n",
    "combi_df"
   ]
  },
  {
   "cell_type": "code",
   "execution_count": 4,
   "metadata": {},
   "outputs": [],
   "source": [
    "combi_df['Return'] = 0\n",
    "combi_df.loc[combi_df['Qty'] < 0,'Return'] = 1\n"
   ]
  },
  {
   "cell_type": "code",
   "execution_count": 5,
   "metadata": {},
   "outputs": [],
   "source": [
    "combi_df = combi_df.drop_duplicates(['transaction_id'],keep='first')\n",
    "combi_df = combi_df.drop(['Tax'],axis=1)\n"
   ]
  },
  {
   "cell_type": "code",
   "execution_count": 6,
   "metadata": {},
   "outputs": [],
   "source": [
    "combi_df['Qty'] = combi_df['Qty'].abs()\n",
    "combi_df['Rate'] = combi_df['Rate'].abs()\n",
    "combi_df['total_amt'] = combi_df['total_amt'].abs()\n"
   ]
  },
  {
   "cell_type": "markdown",
   "metadata": {},
   "source": [
    "### Correlation with Heatmap\n",
    "\n",
    " A correlation heatmap uses colored cells, typically in a monochromatic scale, to show a 2D correlation matrix (table) between two discrete dimensions or event types.\n",
    " It is very important in Feature Selection"
   ]
  },
  {
   "cell_type": "code",
   "execution_count": 7,
   "metadata": {},
   "outputs": [],
   "source": [
    "combi_df.head()\n",
    "##combi_df['AVG of Returns for customer'] = combi_df.groupby('cust_id')['Return'].transform('mean')\n",
    "##combi_df['AVG of Returns for prod cat'] = combi_df.groupby('prod_cat')['Return'].transform('mean')\n",
    "##combi_df['AVG of Returns for prod sub cat'] = combi_df.groupby('prod_subcat')['Return'].transform('mean')\n",
    "##combi_df['AVG of Returns for customer'] = combi_df.groupby('cust_id')['Return'].transform('count')\n",
    "##combi_df.head()\n",
    "from datetime import datetime, date\n",
    "def conv_date(dte) :\n",
    "    born = pd.to_datetime(dte)\n",
    "    ##born = datetime.strptime(dtes, \"%d-%m-%Y\").date()\n",
    "    today = date.today()\n",
    "    a = today.year - born.year - ((today.month,today.day) < (born.month,born.day))    \n",
    "    return a\n",
    "combi_df['DOB'] = combi_df['DOB'].apply(conv_date)"
   ]
  },
  {
   "cell_type": "code",
   "execution_count": 1,
   "metadata": {},
   "outputs": [
    {
     "ename": "NameError",
     "evalue": "name 'combi_df' is not defined",
     "output_type": "error",
     "traceback": [
      "\u001b[1;31m---------------------------------------------------------------------------\u001b[0m",
      "\u001b[1;31mNameError\u001b[0m                                 Traceback (most recent call last)",
      "\u001b[1;32m<ipython-input-1-f1732bdc0d54>\u001b[0m in \u001b[0;36m<module>\u001b[1;34m\u001b[0m\n\u001b[1;32m----> 1\u001b[1;33m \u001b[0mcombi_df\u001b[0m\u001b[1;33m[\u001b[0m\u001b[1;34m'ss'\u001b[0m\u001b[1;33m]\u001b[0m \u001b[1;33m=\u001b[0m \u001b[1;36m0\u001b[0m\u001b[1;33m\u001b[0m\u001b[1;33m\u001b[0m\u001b[0m\n\u001b[0m\u001b[0;32m      2\u001b[0m \u001b[0ma\u001b[0m \u001b[1;33m=\u001b[0m \u001b[1;33m[\u001b[0m\u001b[1;33m]\u001b[0m\u001b[1;33m\u001b[0m\u001b[1;33m\u001b[0m\u001b[0m\n\u001b[0;32m      3\u001b[0m \u001b[1;32mfor\u001b[0m \u001b[0mi\u001b[0m\u001b[1;33m,\u001b[0m\u001b[0mj\u001b[0m \u001b[1;32min\u001b[0m \u001b[0mcombi_df\u001b[0m\u001b[1;33m.\u001b[0m\u001b[0miterrows\u001b[0m\u001b[1;33m(\u001b[0m\u001b[1;33m)\u001b[0m\u001b[1;33m:\u001b[0m\u001b[1;33m\u001b[0m\u001b[1;33m\u001b[0m\u001b[0m\n\u001b[0;32m      4\u001b[0m     \u001b[1;32mfor\u001b[0m \u001b[0mx\u001b[0m \u001b[1;32min\u001b[0m \u001b[0mrange\u001b[0m\u001b[1;33m(\u001b[0m\u001b[0mi\u001b[0m\u001b[1;33m+\u001b[0m\u001b[1;36m1\u001b[0m\u001b[1;33m,\u001b[0m\u001b[0mlen\u001b[0m\u001b[1;33m(\u001b[0m\u001b[0mcombi_df\u001b[0m\u001b[1;33m)\u001b[0m\u001b[1;33m)\u001b[0m\u001b[1;33m:\u001b[0m\u001b[1;33m\u001b[0m\u001b[1;33m\u001b[0m\u001b[0m\n\u001b[0;32m      5\u001b[0m         \u001b[0ma\u001b[0m\u001b[1;33m.\u001b[0m\u001b[0mappend\u001b[0m\u001b[1;33m(\u001b[0m\u001b[0mx\u001b[0m\u001b[1;33m)\u001b[0m\u001b[1;33m\u001b[0m\u001b[1;33m\u001b[0m\u001b[0m\n",
      "\u001b[1;31mNameError\u001b[0m: name 'combi_df' is not defined"
     ]
    }
   ],
   "source": [
    "combi_df['ss'] = 0\n",
    "a = []\n",
    "for i,j in combi_df.iterrows():\n",
    "    for x in range(i+1,len(combi_df)):\n",
    "        a.append(x)\n",
    "#a.append(combi_df.loc[x,'transaction_id'])\n",
    "  ##      if combi_df.loc[i,'transaction_id'] == combi_df.loc[x,'transaction_id']:\n",
    "    ##        combi_df.loc[x,'ss'] = 1"
   ]
  },
  {
   "cell_type": "code",
   "execution_count": null,
   "metadata": {},
   "outputs": [],
   "source": [
    "\n",
    "ss = combi_df[combi_df['Return'] == 1]\n",
    "sns.countplot(x='prod_cat',data=ss)\n",
    "\n",
    "\n",
    "\n"
   ]
  },
  {
   "cell_type": "code",
   "execution_count": null,
   "metadata": {},
   "outputs": [],
   "source": [
    "sns.countplot(y='prod_subcat',data=ss)"
   ]
  },
  {
   "cell_type": "code",
   "execution_count": null,
   "metadata": {},
   "outputs": [],
   "source": [
    "sns.countplot(y='Store_type',data=ss)"
   ]
  },
  {
   "cell_type": "code",
   "execution_count": null,
   "metadata": {},
   "outputs": [],
   "source": [
    "sns.countplot(y='Gender',data=ss)"
   ]
  },
  {
   "cell_type": "code",
   "execution_count": null,
   "metadata": {},
   "outputs": [],
   "source": [
    "sns.histplot(ss['Qty'],kde=False,bins=10)"
   ]
  },
  {
   "cell_type": "code",
   "execution_count": null,
   "metadata": {
    "scrolled": true
   },
   "outputs": [],
   "source": [
    "sns.countplot(x='DOB',data=ss)"
   ]
  },
  {
   "cell_type": "code",
   "execution_count": null,
   "metadata": {},
   "outputs": [],
   "source": [
    "df=combi_df.drop(['transaction_id','cust_id','tran_date','prod_cat','prod_subcat'],axis=1)"
   ]
  },
  {
   "cell_type": "code",
   "execution_count": null,
   "metadata": {},
   "outputs": [],
   "source": [
    "df.dtypes"
   ]
  },
  {
   "cell_type": "code",
   "execution_count": null,
   "metadata": {},
   "outputs": [],
   "source": [
    "df.isnull().sum()"
   ]
  },
  {
   "cell_type": "code",
   "execution_count": null,
   "metadata": {},
   "outputs": [],
   "source": [
    "df = df.dropna(subset=['Gender','city_code'])"
   ]
  },
  {
   "cell_type": "code",
   "execution_count": null,
   "metadata": {},
   "outputs": [],
   "source": [
    "df.isnull().sum()"
   ]
  },
  {
   "cell_type": "code",
   "execution_count": null,
   "metadata": {},
   "outputs": [],
   "source": [
    "from sklearn.preprocessing import LabelEncoder\n",
    "encoder=LabelEncoder()\n",
    "df[\"Gender\"]=encoder.fit_transform(df['Gender'])\n",
    "df[\"Store_type\"]=encoder.fit_transform(df['Store_type'])"
   ]
  },
  {
   "cell_type": "code",
   "execution_count": null,
   "metadata": {},
   "outputs": [],
   "source": [
    "df.head()"
   ]
  },
  {
   "cell_type": "code",
   "execution_count": null,
   "metadata": {},
   "outputs": [],
   "source": [
    "from sklearn.model_selection import train_test_split"
   ]
  },
  {
   "cell_type": "code",
   "execution_count": null,
   "metadata": {},
   "outputs": [],
   "source": [
    "x = df.drop(['Return'],axis=1)\n",
    "y = df['Return']\n",
    "X_train,X_test,y_train,y_test=train_test_split(x,y,test_size=0.3,random_state=0)"
   ]
  },
  {
   "cell_type": "code",
   "execution_count": null,
   "metadata": {},
   "outputs": [],
   "source": [
    "y_train.value_counts()"
   ]
  },
  {
   "cell_type": "code",
   "execution_count": null,
   "metadata": {},
   "outputs": [],
   "source": [
    "y_test.value_counts()"
   ]
  },
  {
   "cell_type": "code",
   "execution_count": null,
   "metadata": {},
   "outputs": [],
   "source": [
    "from sklearn.linear_model import LogisticRegression\n",
    "from sklearn import metrics\n",
    "lr = LogisticRegression(random_state = 0)"
   ]
  },
  {
   "cell_type": "code",
   "execution_count": null,
   "metadata": {},
   "outputs": [],
   "source": [
    "lr.fit(X_train,y_train)\n",
    "print(lr.coef_)\n"
   ]
  },
  {
   "cell_type": "code",
   "execution_count": null,
   "metadata": {},
   "outputs": [],
   "source": [
    "y_pred = lr.predict(X_test)\n",
    "from sklearn.metrics import confusion_matrix, accuracy_score\n",
    "cm = confusion_matrix(y_test, y_pred)\n",
    "print(cm)\n",
    "accuracy_score(y_test, y_pred)"
   ]
  },
  {
   "cell_type": "code",
   "execution_count": null,
   "metadata": {},
   "outputs": [],
   "source": [
    "import statsmodels.api as sm"
   ]
  },
  {
   "cell_type": "code",
   "execution_count": null,
   "metadata": {},
   "outputs": [],
   "source": [
    "X_train=sm.add_constant(X_train)\n",
    "X_test=sm.add_constant(X_test)\n",
    "\n",
    "model = sm.Logit(y_train,X_train)\n",
    "res=model.fit()\n",
    "res.summary()"
   ]
  },
  {
   "cell_type": "code",
   "execution_count": null,
   "metadata": {},
   "outputs": [],
   "source": [
    "np.exp(-0.0938)\n",
    "#odds of return reduces by 1 % when rate increases by 1\n",
    "#np.exp(0.0180)\n",
    "#odds of return increases by 1.8 % when city is different from base city\n"
   ]
  },
  {
   "cell_type": "code",
   "execution_count": null,
   "metadata": {},
   "outputs": [],
   "source": [
    "ypres= res.predict(X_test)\n",
    "ypres=ypres.ravel()\n",
    "yy=ypres\n",
    "for i in range(len(ypres)):\n",
    "    if(ypres[i]>.5):\n",
    "        yy[i]=1\n",
    "    else:\n",
    "        yy[i]=0\n",
    "cm = confusion_matrix(y_test, yy,labels=[0,1])\n",
    "print(cm)\n",
    "accuracy_score(y_test, yy)"
   ]
  },
  {
   "cell_type": "code",
   "execution_count": null,
   "metadata": {},
   "outputs": [],
   "source": []
  }
 ],
 "metadata": {
  "kernelspec": {
   "display_name": "Python 3",
   "language": "python",
   "name": "python3"
  },
  "language_info": {
   "codemirror_mode": {
    "name": "ipython",
    "version": 3
   },
   "file_extension": ".py",
   "mimetype": "text/x-python",
   "name": "python",
   "nbconvert_exporter": "python",
   "pygments_lexer": "ipython3",
   "version": "3.8.8"
  }
 },
 "nbformat": 4,
 "nbformat_minor": 2
}
